{
 "cells": [
  {
   "cell_type": "code",
   "execution_count": 1,
   "metadata": {},
   "outputs": [
    {
     "name": "stderr",
     "output_type": "stream",
     "text": [
      "2023-08-14 22:25:57.739933: I tensorflow/core/platform/cpu_feature_guard.cc:182] This TensorFlow binary is optimized to use available CPU instructions in performance-critical operations.\n",
      "To enable the following instructions: AVX2 FMA, in other operations, rebuild TensorFlow with the appropriate compiler flags.\n",
      "2023-08-14 22:25:59.864841: W tensorflow/compiler/tf2tensorrt/utils/py_utils.cc:38] TF-TRT Warning: Could not find TensorRT\n"
     ]
    }
   ],
   "source": [
    "import warnings\n",
    "warnings.filterwarnings(\"ignore\")\n",
    "\n",
    "from model import Summarizer\n",
    "from dataset import *\n",
    "import pandas as pd\n",
    "from utils import load_data\n",
    "from constants import *\n",
    "from pytorch_lightning.callbacks import ModelCheckpoint\n",
    "from pytorch_lightning.loggers import TensorBoardLogger, CSVLogger\n",
    "from pytorch_lightning import Trainer\n",
    "from summarize import summarize"
   ]
  },
  {
   "cell_type": "code",
   "execution_count": 2,
   "metadata": {},
   "outputs": [],
   "source": [
    "# Loading data and tokenizer\n",
    "train_set, test_set = load_data()\n",
    "tokenizer = T5TokenizerFast.from_pretrained(MODEL_NAME)"
   ]
  },
  {
   "cell_type": "code",
   "execution_count": 12,
   "metadata": {},
   "outputs": [],
   "source": [
    "# Configuring checkpoints and criteria for saving models\n",
    "checkpoint_callback = ModelCheckpoint(\n",
    "    dirpath=\"checkpoints\",\n",
    "    filename=\"best\",\n",
    "    save_top_k=1,\n",
    "    verbose=True,\n",
    "    monitor='val_loss',\n",
    "    mode='min'\n",
    ")\n",
    "\n",
    "# Configuring log folder\n",
    "logger = CSVLogger(save_dir=\"log\", name=\"summary\")\n"
   ]
  },
  {
   "cell_type": "code",
   "execution_count": 11,
   "metadata": {},
   "outputs": [
    {
     "name": "stderr",
     "output_type": "stream",
     "text": [
      "GPU available: True (cuda), used: True\n",
      "TPU available: False, using: 0 TPU cores\n",
      "IPU available: False, using: 0 IPUs\n",
      "HPU available: False, using: 0 HPUs\n"
     ]
    }
   ],
   "source": [
    "\n",
    "# Configuring trainer\n",
    "trainer = Trainer(\n",
    "    logger=logger,\n",
    "    callbacks=checkpoint_callback,\n",
    "    accelerator='gpu',\n",
    "    max_epochs=N_EPOCHS,\n",
    "    val_check_interval=0.2\n",
    ")"
   ]
  },
  {
   "cell_type": "code",
   "execution_count": 6,
   "metadata": {},
   "outputs": [
    {
     "name": "stdout",
     "output_type": "stream",
     "text": [
      "training started\n"
     ]
    },
    {
     "name": "stderr",
     "output_type": "stream",
     "text": [
      "LOCAL_RANK: 0 - CUDA_VISIBLE_DEVICES: [0]\n",
      "\n",
      "  | Name  | Type                       | Params\n",
      "-----------------------------------------------------\n",
      "0 | model | T5ForConditionalGeneration | 60.5 M\n",
      "-----------------------------------------------------\n",
      "60.5 M    Trainable params\n",
      "0         Non-trainable params\n",
      "60.5 M    Total params\n",
      "242.026   Total estimated model params size (MB)\n"
     ]
    },
    {
     "name": "stdout",
     "output_type": "stream",
     "text": [
      "Epoch 0:  20%|██        | 201/1005 [00:45<03:01,  4.42it/s, loss=1.3, v_num=0, train_loss=0.842, val_loss=0.943]"
     ]
    },
    {
     "name": "stderr",
     "output_type": "stream",
     "text": [
      "Epoch 0, global step 89: 'val_loss' reached 0.94268 (best 0.94268), saving model to '/media/rolexx/Local Disk/fuse project/checkpoints/best-v1.ckpt' as top 1\n"
     ]
    },
    {
     "name": "stdout",
     "output_type": "stream",
     "text": [
      "Epoch 0:  40%|████      | 402/1005 [01:35<02:22,  4.22it/s, loss=0.948, v_num=0, train_loss=0.602, val_loss=0.778]"
     ]
    },
    {
     "name": "stderr",
     "output_type": "stream",
     "text": [
      "Epoch 0, global step 178: 'val_loss' reached 0.77814 (best 0.77814), saving model to '/media/rolexx/Local Disk/fuse project/checkpoints/best-v1.ckpt' as top 1\n"
     ]
    },
    {
     "name": "stdout",
     "output_type": "stream",
     "text": [
      "Epoch 0:  60%|██████    | 603/1005 [02:25<01:37,  4.14it/s, loss=0.912, v_num=0, train_loss=0.828, val_loss=0.719]"
     ]
    },
    {
     "name": "stderr",
     "output_type": "stream",
     "text": [
      "Epoch 0, global step 267: 'val_loss' reached 0.71858 (best 0.71858), saving model to '/media/rolexx/Local Disk/fuse project/checkpoints/best-v1.ckpt' as top 1\n"
     ]
    },
    {
     "name": "stdout",
     "output_type": "stream",
     "text": [
      "Epoch 0:  80%|████████  | 804/1005 [03:17<00:49,  4.07it/s, loss=0.798, v_num=0, train_loss=0.693, val_loss=0.687]"
     ]
    },
    {
     "name": "stderr",
     "output_type": "stream",
     "text": [
      "Epoch 0, global step 356: 'val_loss' reached 0.68744 (best 0.68744), saving model to '/media/rolexx/Local Disk/fuse project/checkpoints/best-v1.ckpt' as top 1\n"
     ]
    },
    {
     "name": "stdout",
     "output_type": "stream",
     "text": [
      "Epoch 0: 100%|██████████| 1005/1005 [04:09<00:00,  4.02it/s, loss=0.851, v_num=0, train_loss=0.759, val_loss=0.668]"
     ]
    },
    {
     "name": "stderr",
     "output_type": "stream",
     "text": [
      "Epoch 0, global step 445: 'val_loss' reached 0.66788 (best 0.66788), saving model to '/media/rolexx/Local Disk/fuse project/checkpoints/best-v1.ckpt' as top 1\n"
     ]
    },
    {
     "name": "stdout",
     "output_type": "stream",
     "text": [
      "Epoch 1:  20%|██        | 201/1005 [00:47<03:09,  4.24it/s, loss=0.698, v_num=0, train_loss=1.100, val_loss=0.650] "
     ]
    },
    {
     "name": "stderr",
     "output_type": "stream",
     "text": [
      "Epoch 1, global step 534: 'val_loss' reached 0.65020 (best 0.65020), saving model to '/media/rolexx/Local Disk/fuse project/checkpoints/best-v1.ckpt' as top 1\n"
     ]
    },
    {
     "name": "stdout",
     "output_type": "stream",
     "text": [
      "Epoch 1:  40%|████      | 402/1005 [01:39<02:28,  4.06it/s, loss=0.655, v_num=0, train_loss=0.448, val_loss=0.636]"
     ]
    },
    {
     "name": "stderr",
     "output_type": "stream",
     "text": [
      "Epoch 1, global step 623: 'val_loss' reached 0.63575 (best 0.63575), saving model to '/media/rolexx/Local Disk/fuse project/checkpoints/best-v1.ckpt' as top 1\n"
     ]
    },
    {
     "name": "stdout",
     "output_type": "stream",
     "text": [
      "Epoch 1:  60%|██████    | 603/1005 [02:32<01:41,  3.96it/s, loss=0.755, v_num=0, train_loss=0.474, val_loss=0.625]"
     ]
    },
    {
     "name": "stderr",
     "output_type": "stream",
     "text": [
      "Epoch 1, global step 712: 'val_loss' reached 0.62507 (best 0.62507), saving model to '/media/rolexx/Local Disk/fuse project/checkpoints/best-v1.ckpt' as top 1\n"
     ]
    },
    {
     "name": "stdout",
     "output_type": "stream",
     "text": [
      "Epoch 1:  80%|████████  | 804/1005 [03:25<00:51,  3.91it/s, loss=0.685, v_num=0, train_loss=0.374, val_loss=0.615]"
     ]
    },
    {
     "name": "stderr",
     "output_type": "stream",
     "text": [
      "Epoch 1, global step 801: 'val_loss' reached 0.61517 (best 0.61517), saving model to '/media/rolexx/Local Disk/fuse project/checkpoints/best-v1.ckpt' as top 1\n"
     ]
    },
    {
     "name": "stdout",
     "output_type": "stream",
     "text": [
      "Epoch 1: 100%|██████████| 1005/1005 [04:18<00:00,  3.89it/s, loss=0.866, v_num=0, train_loss=0.777, val_loss=0.605]"
     ]
    },
    {
     "name": "stderr",
     "output_type": "stream",
     "text": [
      "Epoch 1, global step 890: 'val_loss' reached 0.60521 (best 0.60521), saving model to '/media/rolexx/Local Disk/fuse project/checkpoints/best-v1.ckpt' as top 1\n"
     ]
    },
    {
     "name": "stdout",
     "output_type": "stream",
     "text": [
      "Epoch 1: 100%|██████████| 1005/1005 [04:26<00:00,  3.77it/s, loss=0.866, v_num=0, train_loss=0.777, val_loss=0.605]"
     ]
    },
    {
     "name": "stderr",
     "output_type": "stream",
     "text": [
      "`Trainer.fit` stopped: `max_epochs=2` reached.\n"
     ]
    },
    {
     "name": "stdout",
     "output_type": "stream",
     "text": [
      "Epoch 1: 100%|██████████| 1005/1005 [04:26<00:00,  3.77it/s, loss=0.866, v_num=0, train_loss=0.777, val_loss=0.605]\n"
     ]
    }
   ],
   "source": [
    "# Getting the summarizer model and dataloader\n",
    "model = Summarizer()\n",
    "datamodule = NewsDataModule(train=train_set, test=test_set, tokenizer=tokenizer, batch_size=BATCH_SIZE)\n",
    "\n",
    "print(\"training started\")\n",
    "# Training\n",
    "trainer.fit(model, datamodule)"
   ]
  },
  {
   "cell_type": "code",
   "execution_count": 18,
   "metadata": {},
   "outputs": [],
   "source": [
    "# Loading the the best model from checkpoint\n",
    "best = Summarizer().load_from_checkpoint(\"checkpoints/best.ckpt\")"
   ]
  },
  {
   "cell_type": "code",
   "execution_count": 14,
   "metadata": {},
   "outputs": [
    {
     "data": {
      "text/plain": [
       "'Spurs to sign Iceland U21 star\\n\\nTottenham are primed to snap up Iceland Under-21 international Emil Hallfredsson after he impressed on trial at White Hart Lane\\n\\n.The 20-year-old midfielder, who plays for FH Hafnarfjordur, also starred in the Uefa Cup match against Scottish side Dunfermline earlier this season. Spurs have agreed a fee for the player, who has yet to agree personal terms. \"He had offers from two other clubs but he decided to come to Tottenham,\" said Spurs sporting director Frank Arnesen. \"He is a left-sided player, a position we have been looking at and he showed so much talent in his time here that we decided to take him. \"It\\'s down the road of bringing in talent, good prospects and giving them a place at Tottenham where they can improve.\"'"
      ]
     },
     "execution_count": 14,
     "metadata": {},
     "output_type": "execute_result"
    }
   ],
   "source": [
    "index = 100\n",
    "text = test_set.iloc[index]['Articles']\n",
    "label = test_set.iloc[index]['Summaries']\n",
    "text"
   ]
  },
  {
   "cell_type": "code",
   "execution_count": 19,
   "metadata": {},
   "outputs": [],
   "source": [
    "summary = summarize(text, best, tokenizer, length=250)"
   ]
  },
  {
   "cell_type": "code",
   "execution_count": 20,
   "metadata": {},
   "outputs": [
    {
     "data": {
      "text/plain": [
       "'Spurs to sign Iceland U21 star Tottenham are primed to snap up Iceland Under-21 international Emil Hallfredsson after he impressed on trial at White Hart Lane.The 20-year-old midfielder, who plays for FH Hafnarfjordur, also starred in the Uefa Cup match against Scottish side Dunfermline earlier this season.'"
      ]
     },
     "execution_count": 20,
     "metadata": {},
     "output_type": "execute_result"
    }
   ],
   "source": [
    "summary"
   ]
  },
  {
   "cell_type": "code",
   "execution_count": 16,
   "metadata": {},
   "outputs": [
    {
     "data": {
      "text/plain": [
       "'Spurs to sign Iceland U21 star Tottenham are primed to snap up Iceland Under-21 international Emil Hallfredsson after he impressed on trial at White Hart Lane.The 20-year-old midfielder, who plays for FH Hafnarfjordur, also starred in the Uefa Cup match against Scottish side Dunfermline earlier this season.It\\'s down the road of bringing in talent, good prospects and giving them a place at Tottenham where they can improve.\"He is a left-sided player, a position we have been looking at and he showed so much talent in his time here that we decided to take him.\"'"
      ]
     },
     "execution_count": 16,
     "metadata": {},
     "output_type": "execute_result"
    }
   ],
   "source": [
    "summary"
   ]
  },
  {
   "cell_type": "code",
   "execution_count": 17,
   "metadata": {},
   "outputs": [
    {
     "data": {
      "text/plain": [
       "'\"He had offers from two other clubs but he decided to come to Tottenham,\" said Spurs sporting director Frank Arnesen.\"He is a left-sided player, a position we have been looking at and he showed so much talent in his time here that we decided to take him.\"It\\'s down the road of bringing in talent, good prospects and giving them a place at Tottenham where they can improve.\"'"
      ]
     },
     "execution_count": 17,
     "metadata": {},
     "output_type": "execute_result"
    }
   ],
   "source": [
    "label"
   ]
  },
  {
   "cell_type": "code",
   "execution_count": null,
   "metadata": {},
   "outputs": [],
   "source": []
  }
 ],
 "metadata": {
  "kernelspec": {
   "display_name": "project",
   "language": "python",
   "name": "python3"
  },
  "language_info": {
   "codemirror_mode": {
    "name": "ipython",
    "version": 3
   },
   "file_extension": ".py",
   "mimetype": "text/x-python",
   "name": "python",
   "nbconvert_exporter": "python",
   "pygments_lexer": "ipython3",
   "version": "3.9.0"
  },
  "orig_nbformat": 4
 },
 "nbformat": 4,
 "nbformat_minor": 2
}
